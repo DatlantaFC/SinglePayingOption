{
 "cells": [
  {
   "cell_type": "code",
   "execution_count": null,
   "metadata": {},
   "outputs": [],
   "source": [
    "%config IPCompleter.greedy=True\n",
    "\n",
    "#Welcome to the big QQQ notebook"
   ]
  },
  {
   "cell_type": "code",
   "execution_count": 39,
   "metadata": {},
   "outputs": [],
   "source": [
    "#imports\n",
    "import pandas as pd\n",
    "import time"
   ]
  },
  {
   "cell_type": "code",
   "execution_count": 40,
   "metadata": {},
   "outputs": [],
   "source": [
    "#import data\n",
    "qqq_day = pd.read_csv('latest_data/QQQ_1D_AUG2820.csv')\n",
    "qqq_5m = pd.read_csv('latest_data/QQQ_5M_AUG2820.csv')\n",
    "qqq_30m = pd.read_csv('latest_data/QQQ_30M_AUG2820.csv')\n",
    "\n",
    "#constants\n",
    "PROFIT_THRESHOLD = 0.002\n",
    "DAYTRADE_EVENT_THRESHOLD = 0.003\n",
    "DAYS_OF_THE_WEEK = ['Monday', 'Tuesday', 'Wednesday', 'Thursday', 'Friday']\n",
    "\n",
    "#utilities\n",
    "def convert_epoch_time_to_day_of_the_week(epoch_milliseconds):\n",
    "    epoch = epoch_milliseconds / 1000\n",
    "    return time.strftime(\"%A\", time.gmtime(epoch_milliseconds))"
   ]
  },
  {
   "cell_type": "code",
   "execution_count": 48,
   "metadata": {},
   "outputs": [],
   "source": [
    "#PROCESS DATA\n",
    "def ProcessData(dat):\n",
    "    for i, row in dat.iterrows():\n",
    "        if i == 0:\n",
    "            continue\n",
    "        #add day\n",
    "        dat.at[i,'dayofweek'] = convert_epoch_time_to_day_of_the_week(dat.at[i, 'time'])\n",
    "        #add profitability\n",
    "        if row['close'] / dat.at[i-1, 'close'] - 1 > PROFIT_THRESHOLD:\n",
    "            dat.at[i,'profit'] = 1\n",
    "        else:\n",
    "            dat.at[i,'profit'] = 0   \n",
    "    return dat\n",
    "\n",
    "qqq_day = ProcessData(qqq_day)\n",
    "qqq_30m = ProcessData(qqq_30m)"
   ]
  },
  {
   "cell_type": "code",
   "execution_count": 59,
   "metadata": {},
   "outputs": [
    {
     "data": {
      "text/plain": [
       "[(4, 3, 0.75), (4, 3, 0.75), (4, 3, 0.75), (4, 3, 0.75), (5, 3, 0.6)]"
      ]
     },
     "execution_count": 59,
     "metadata": {},
     "output_type": "execute_result"
    }
   ],
   "source": [
    "#PROFITABILITY PROBABILITY PER DAY\n",
    "#parameters\n",
    "PB_DAY_WINDOW = 21\n",
    "\n",
    "def GetProfitableDayCount(dat, day, window):\n",
    "    daycnt = 0\n",
    "    pcnt = 0\n",
    "    dat_window = dat.tail(window)\n",
    "    for i, row in dat_window.iterrows():\n",
    "        if dat.at[i, 'dayofweek'] == day:\n",
    "            daycnt += 1\n",
    "            if dat.at[i, 'profit'] == 1:\n",
    "                pcnt += 1\n",
    "    return daycnt, pcnt, pcnt/daycnt\n",
    "\n",
    "result_profit_probability_per_day = []\n",
    "for day in DAYS_OF_THE_WEEK:\n",
    "    result_profit_probability_per_day.append(GetProfitableDayCount(qqq_day, day, PB_DAY_WINDOW))\n",
    "    \n",
    "result_profit_probability_per_day"
   ]
  },
  {
   "cell_type": "code",
   "execution_count": null,
   "metadata": {},
   "outputs": [],
   "source": [
    "#DAY TRADE OPPORTUNITIES PER DAY\n"
   ]
  },
  {
   "cell_type": "code",
   "execution_count": null,
   "metadata": {},
   "outputs": [],
   "source": []
  }
 ],
 "metadata": {
  "kernelspec": {
   "display_name": "Python 3",
   "language": "python",
   "name": "python3"
  },
  "language_info": {
   "codemirror_mode": {
    "name": "ipython",
    "version": 3
   },
   "file_extension": ".py",
   "mimetype": "text/x-python",
   "name": "python",
   "nbconvert_exporter": "python",
   "pygments_lexer": "ipython3",
   "version": "3.7.6"
  }
 },
 "nbformat": 4,
 "nbformat_minor": 4
}
