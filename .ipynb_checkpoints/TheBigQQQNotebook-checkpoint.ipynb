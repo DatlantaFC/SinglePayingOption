{
 "cells": [
  {
   "cell_type": "code",
   "execution_count": 101,
   "metadata": {},
   "outputs": [],
   "source": [
    "%config IPCompleter.greedy=True\n",
    "\n",
    "#Welcome to the big QQQ notebook"
   ]
  },
  {
   "cell_type": "code",
   "execution_count": 102,
   "metadata": {},
   "outputs": [],
   "source": [
    "#imports\n",
    "import pandas as pd\n",
    "import time"
   ]
  },
  {
   "cell_type": "code",
   "execution_count": 109,
   "metadata": {},
   "outputs": [],
   "source": [
    "#import primary data\n",
    "qqq_day = pd.read_csv('latest_data/QQQ_1D_AUG2820.csv')\n",
    "qqq_5m = pd.read_csv('latest_data/QQQ_5M_AUG2820.csv')\n",
    "qqq_30m = pd.read_csv('latest_data/QQQ_30M_AUG2820.csv')\n",
    "\n",
    "#import faang data\n",
    "qqq_faang_day = pd.read_csv('latest_data/QQQ_FAANG_1D_AUG2820.csv')\n",
    "qqq_faang_5m = pd.read_csv('latest_data/QQQ_FAANG_5M_AUG2820.csv')\n",
    "qqq_faang_30m = pd.read_csv('latest_data/QQQ_FAANG_30M_AUG2820.csv')\n",
    "\n",
    "#constants\n",
    "PROFIT_THRESHOLD = 0.002\n",
    "BIG_PROFIT_THRESHOLD = 0.015\n",
    "DAYS_OF_THE_WEEK = ['Monday', 'Tuesday', 'Wednesday', 'Thursday', 'Friday']\n",
    "FAANG_SYMBOLS = ['NVDA', 'INTC', 'AMD', 'TSLA', 'MSFT', 'GOOGL', 'AMZN', 'AAPL', 'FB']\n",
    "\n",
    "#utilities\n",
    "def convert_epoch_time_to_day_of_the_week(epoch_milliseconds):\n",
    "    epoch = epoch_milliseconds / 1000\n",
    "    return time.strftime(\"%A\", time.gmtime(epoch_milliseconds))\n",
    "def GetFAANGColumnOpen(symbol):\n",
    "    return symbol + \", CBOE BZX: Open\"\n",
    "def GetFAANGColumnClose(symbol):\n",
    "    return symbol + \", CBOE BZX: Close\"\n",
    "def GetFAANGColumHigh(symbol):\n",
    "    return symbol + \", CBOE BZX: High\"\n",
    "def GetFAANGColumnLow(symbol):\n",
    "    return symbol + \", CBOE BZX: Low\""
   ]
  },
  {
   "cell_type": "code",
   "execution_count": 110,
   "metadata": {},
   "outputs": [],
   "source": [
    "#PROCESS DATA\n",
    "def ProcessData(dat):\n",
    "    for i, row in dat.iterrows():\n",
    "        if i == 0:\n",
    "            continue\n",
    "        #add day\n",
    "        dat.at[i,'dayofweek'] = convert_epoch_time_to_day_of_the_week(dat.at[i, 'time'])\n",
    "        #add profitability\n",
    "        if row['close'] / dat.at[i-1, 'close'] - 1 > PROFIT_THRESHOLD:\n",
    "            dat.at[i,'profit'] = 1\n",
    "        else:\n",
    "            dat.at[i,'profit'] = 0\n",
    "        if row['close'] / dat.at[i-1, 'close'] - 1 > BIG_PROFIT_THRESHOLD:\n",
    "            dat.at[i,'bigprofit'] = 1\n",
    "        else:\n",
    "            dat.at[i,'bigprofit'] = 0\n",
    "        #rsi over/undersold\n",
    "        #bb over/undersold\n",
    "        #market bottom\n",
    "    return dat\n",
    "\n",
    "qqq_day = ProcessData(qqq_day)\n",
    "qqq_30m = ProcessData(qqq_30m)\n",
    "qqq_5m = ProcessData(qqq_5m)"
   ]
  },
  {
   "cell_type": "code",
   "execution_count": 111,
   "metadata": {},
   "outputs": [
    {
     "name": "stdout",
     "output_type": "stream",
     "text": [
      "Index(['time', 'open', 'high', 'low', 'close', 'Basis', 'Upper', 'Lower',\n",
      "       'Volume', 'Volume MA', 'Plot', 'Plot.1', 'Range High Percentile',\n",
      "       'Range High Percentile.1', 'Williams Vix Fix', 'Upper Band', 'RSI',\n",
      "       'Aroon Up', 'Aroon Down', 'dayofweek', 'profit', 'bigprofit'],\n",
      "      dtype='object')\n",
      "Index(['time', 'open', 'high', 'low', 'close', 'NVDA, CBOE BZX: Open',\n",
      "       'NVDA, CBOE BZX: High', 'NVDA, CBOE BZX: Low', 'NVDA, CBOE BZX: Close',\n",
      "       'INTC, CBOE BZX: Open', 'INTC, CBOE BZX: High', 'INTC, CBOE BZX: Low',\n",
      "       'INTC, CBOE BZX: Close', 'AMD, CBOE BZX: Open', 'AMD, CBOE BZX: High',\n",
      "       'AMD, CBOE BZX: Low', 'AMD, CBOE BZX: Close', 'TSLA, CBOE BZX: Open',\n",
      "       'TSLA, CBOE BZX: High', 'TSLA, CBOE BZX: Low', 'TSLA, CBOE BZX: Close',\n",
      "       'MSFT, CBOE BZX: Open', 'MSFT, CBOE BZX: High', 'MSFT, CBOE BZX: Low',\n",
      "       'MSFT, CBOE BZX: Close', 'GOOGL, CBOE BZX: Open',\n",
      "       'GOOGL, CBOE BZX: High', 'GOOGL, CBOE BZX: Low',\n",
      "       'GOOGL, CBOE BZX: Close', 'AMZN, CBOE BZX: Open',\n",
      "       'AMZN, CBOE BZX: High', 'AMZN, CBOE BZX: Low', 'AMZN, CBOE BZX: Close',\n",
      "       'AAPL, CBOE BZX: Open', 'AAPL, CBOE BZX: High', 'AAPL, CBOE BZX: Low',\n",
      "       'AAPL, CBOE BZX: Close', 'FB, CBOE BZX: Open', 'FB, CBOE BZX: High',\n",
      "       'FB, CBOE BZX: Low', 'FB, CBOE BZX: Close', 'Volume', 'Volume MA'],\n",
      "      dtype='object')\n"
     ]
    }
   ],
   "source": [
    "#DATASET SUMMARY\n",
    "#columns\n",
    "print (qqq_day.columns)\n",
    "print (qqq_faang_day.columns)"
   ]
  },
  {
   "cell_type": "code",
   "execution_count": 106,
   "metadata": {},
   "outputs": [
    {
     "name": "stdout",
     "output_type": "stream",
     "text": [
      "Monday probability of profitable movement (21 day window): 0.75\n",
      "Tuesday probability of profitable movement (21 day window): 0.75\n",
      "Wednesday probability of profitable movement (21 day window): 0.75\n",
      "Thursday probability of profitable movement (21 day window): 0.75\n",
      "Friday probability of profitable movement (21 day window): 0.6\n"
     ]
    }
   ],
   "source": [
    "#PROFITABLE INTRADAY MOVEMENT\n",
    "#parameters\n",
    "PB_DAY_WINDOW = 21\n",
    "\n",
    "def GetProfitableDayCount(dat, day, window):\n",
    "    daycnt = 0\n",
    "    pcnt = 0\n",
    "    dat_window = dat.tail(window)\n",
    "    for i, row in dat_window.iterrows():\n",
    "        if dat.at[i, 'dayofweek'] == day:\n",
    "            daycnt += 1\n",
    "            if dat.at[i, 'profit'] == 1:\n",
    "                pcnt += 1\n",
    "    return daycnt, pcnt, pcnt/daycnt\n",
    "\n",
    "result_profit_probability_per_day = []\n",
    "for day in DAYS_OF_THE_WEEK:\n",
    "    result_profit_probability_per_day.append(GetProfitableDayCount(qqq_day, day, PB_DAY_WINDOW))\n",
    "\n",
    "#print summary\n",
    "i = 0\n",
    "for day in DAYS_OF_THE_WEEK:\n",
    "    print (day + \" probability of profitable movement (\" + str(PB_DAY_WINDOW) + \" day window): \" + str(result_profit_probability_per_day[i][2]))\n",
    "    i += 1"
   ]
  },
  {
   "cell_type": "code",
   "execution_count": 107,
   "metadata": {},
   "outputs": [
    {
     "name": "stdout",
     "output_type": "stream",
     "text": [
      "0.4% call events per day: 3.96\n",
      "0.4% put events per day: 2.76\n"
     ]
    }
   ],
   "source": [
    "#DAILY SWINGS\n",
    "EVENT_THRESHOLD = 0.004\n",
    "\n",
    "def GetDayTradeCallOpportunities(dat):\n",
    "    day = dat.at[0, 'dayofweek']\n",
    "    days = 1\n",
    "    events = []\n",
    "    dcnt = 0\n",
    "    for i, row in dat.iterrows():\n",
    "        if day != dat.at[i, 'dayofweek']:\n",
    "            low = row\n",
    "            day = dat.at[i, 'dayofweek']  \n",
    "            days += 1\n",
    "            dcnt = 0\n",
    "            continue\n",
    "            \n",
    "        dat.at[i, 'callopportunities'] = dcnt\n",
    "        dat.at[i, 'day'] = days        \n",
    "        if i == 0:\n",
    "            low = row\n",
    "            continue\n",
    "        \n",
    "        if dat.at[i, 'close'] < low['close']:\n",
    "            low = row\n",
    "            continue\n",
    "        \n",
    "        pctchange = ((row['close'] - low['close']) / low['close'])\n",
    "        if pctchange > EVENT_THRESHOLD:\n",
    "            events.append((low,row))\n",
    "            dcnt += 1\n",
    "            low = row\n",
    "    return (dat, events)\n",
    "\n",
    "def GetDayTradePutOpportunities(dat):\n",
    "    day = dat.at[0, 'dayofweek']\n",
    "    days = 1\n",
    "    events = []\n",
    "    dcnt = 0\n",
    "    for i, row in dat.iterrows():\n",
    "        if day != dat.at[i, 'dayofweek']:\n",
    "            high = row\n",
    "            day = dat.at[i, 'dayofweek']  \n",
    "            days += 1\n",
    "            dcnt = 0\n",
    "            continue\n",
    "            \n",
    "        dat.at[i, 'putopportunities'] = dcnt\n",
    "        dat.at[i, 'day'] = days        \n",
    "        if i == 0:\n",
    "            high = row\n",
    "            continue\n",
    "        \n",
    "        if dat.at[i, 'close'] > high['close']:\n",
    "            high = row\n",
    "            continue\n",
    "        \n",
    "        pctchange = ((row['close'] - high['close']) / high['close'])\n",
    "        if abs(pctchange) > EVENT_THRESHOLD:\n",
    "            events.append((high,row))\n",
    "            dcnt += 1\n",
    "            high = row\n",
    "    return (dat, events)\n",
    "\n",
    "#print summary\n",
    "result = GetDayTradeCallOpportunities(qqq_5m)\n",
    "qqq_5m = result[0]\n",
    "print (str(EVENT_THRESHOLD * 100) + \"% call events per day: \" + str(len(result[1]) / qqq_5m['day'].max()))\n",
    "result = GetDayTradePutOpportunities(qqq_5m)\n",
    "qqq_5m = result[0]\n",
    "print (str(EVENT_THRESHOLD * 100) + \"% put events per day: \" + str(len(result[1]) / qqq_5m['day'].max()))"
   ]
  },
  {
   "cell_type": "code",
   "execution_count": null,
   "metadata": {},
   "outputs": [],
   "source": [
    "#FAANG (AND OTHER TECH) INDICATORS\n",
    "EARNINGS_WINDOW = 3\n",
    "#TODO: find better values\n",
    "FAANG_PROFIT_THRESHOLD = [0.01, 0.01, 0.01, 0.01, 0.01, 0.01, 0.01, 0.01, 0.01,]\n",
    "LAST3_EARNINGS_DATES = [[],[],[],[],[],[],[],[],[]]\n",
    "\n",
    "#calculate correlations\n",
    "price_correlation = 0\n",
    "profit_correlation = 0\n",
    "#calculate average movement before and after earnings\n",
    "#calculate average movement before and after positive earnings"
   ]
  },
  {
   "cell_type": "code",
   "execution_count": 60,
   "metadata": {},
   "outputs": [],
   "source": [
    "#PRECIOUS METALS INDICATORS"
   ]
  },
  {
   "cell_type": "code",
   "execution_count": null,
   "metadata": {},
   "outputs": [],
   "source": [
    "#EXTERNAL INDICATORS"
   ]
  }
 ],
 "metadata": {
  "kernelspec": {
   "display_name": "Python 3",
   "language": "python",
   "name": "python3"
  },
  "language_info": {
   "codemirror_mode": {
    "name": "ipython",
    "version": 3
   },
   "file_extension": ".py",
   "mimetype": "text/x-python",
   "name": "python",
   "nbconvert_exporter": "python",
   "pygments_lexer": "ipython3",
   "version": "3.7.6"
  }
 },
 "nbformat": 4,
 "nbformat_minor": 4
}
